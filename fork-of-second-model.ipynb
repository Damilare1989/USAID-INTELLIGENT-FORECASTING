{
 "cells": [
  {
   "cell_type": "code",
   "execution_count": 1,
   "metadata": {
    "_cell_guid": "b1076dfc-b9ad-4769-8c92-a6c4dae69d19",
    "_uuid": "8f2839f25d086af736a60e9eeb907d3b93b6e0e5",
    "execution": {
     "iopub.execute_input": "2020-08-30T17:01:38.592161Z",
     "iopub.status.busy": "2020-08-30T17:01:38.591068Z",
     "iopub.status.idle": "2020-08-30T17:01:38.599952Z",
     "shell.execute_reply": "2020-08-30T17:01:38.601217Z"
    },
    "papermill": {
     "duration": 0.057377,
     "end_time": "2020-08-30T17:01:38.601555",
     "exception": false,
     "start_time": "2020-08-30T17:01:38.544178",
     "status": "completed"
    },
    "tags": []
   },
   "outputs": [
    {
     "name": "stdout",
     "output_type": "stream",
     "text": [
      "/kaggle/input/usaidfinalsubmission/service_delivery_site_data.csv\n",
      "/kaggle/input/usaid-final-submission/contraceptive_logistics_data.csv\n",
      "/kaggle/input/usaid-final-submission/submission_format.csv\n"
     ]
    }
   ],
   "source": [
    "# This Python 3 environment comes with many helpful analytics libraries installed\n",
    "# It is defined by the kaggle/python Docker image: https://github.com/kaggle/docker-python\n",
    "# For example, here's several helpful packages to load\n",
    "\n",
    "import numpy as np # linear algebra\n",
    "import pandas as pd # data processing, CSV file I/O (e.g. pd.read_csv)\n",
    "\n",
    "# Input data files are available in the read-only \"../input/\" directory\n",
    "# For example, running this (by clicking run or pressing Shift+Enter) will list all files under the input directory\n",
    "\n",
    "import os\n",
    "for dirname, _, filenames in os.walk('/kaggle/input'):\n",
    "    for filename in filenames:\n",
    "        print(os.path.join(dirname, filename))\n",
    "\n",
    "# You can write up to 5GB to the current directory (/kaggle/working/) that gets preserved as output when you create a version using \"Save & Run All\" \n",
    "# You can also write temporary files to /kaggle/temp/, but they won't be saved outside of the current session"
   ]
  },
  {
   "cell_type": "code",
   "execution_count": 2,
   "metadata": {
    "_cell_guid": "79c7e3d0-c299-4dcb-8224-4455121ee9b0",
    "_uuid": "d629ff2d2480ee46fbb7e2d37f6b5fab8052498a",
    "execution": {
     "iopub.execute_input": "2020-08-30T17:01:38.694959Z",
     "iopub.status.busy": "2020-08-30T17:01:38.693777Z",
     "iopub.status.idle": "2020-08-30T17:01:41.241830Z",
     "shell.execute_reply": "2020-08-30T17:01:41.242528Z"
    },
    "papermill": {
     "duration": 2.60182,
     "end_time": "2020-08-30T17:01:41.242728",
     "exception": false,
     "start_time": "2020-08-30T17:01:38.640908",
     "status": "completed"
    },
    "tags": []
   },
   "outputs": [],
   "source": [
    "%matplotlib inline\n",
    "pd.set_option('display.max_rows', 500)\n",
    "pd.set_option('display.max_columns', 500)\n",
    "import seaborn as sns\n",
    "import matplotlib.pyplot as plt\n",
    "import time\n",
    "\n",
    "\n",
    "from sklearn.model_selection import train_test_split,GridSearchCV\n",
    "import matplotlib.pylab as plt\n",
    "from xgboost import XGBRegressor\n",
    "from sklearn.model_selection import RandomizedSearchCV\n",
    "from sklearn.metrics import mean_squared_error\n",
    "from math import sqrt"
   ]
  },
  {
   "cell_type": "code",
   "execution_count": 3,
   "metadata": {
    "execution": {
     "iopub.execute_input": "2020-08-30T17:01:41.330463Z",
     "iopub.status.busy": "2020-08-30T17:01:41.329618Z",
     "iopub.status.idle": "2020-08-30T17:01:41.469271Z",
     "shell.execute_reply": "2020-08-30T17:01:41.468575Z"
    },
    "papermill": {
     "duration": 0.186174,
     "end_time": "2020-08-30T17:01:41.469427",
     "exception": false,
     "start_time": "2020-08-30T17:01:41.283253",
     "status": "completed"
    },
    "tags": []
   },
   "outputs": [],
   "source": [
    "train=pd.read_csv('../input/usaid-final-submission/contraceptive_logistics_data.csv')\n",
    "sub = pd.read_csv('../input/usaid-final-submission/submission_format.csv')\n",
    "test = pd.read_csv('../input/usaid-final-submission/submission_format.csv')\n",
    "sd=pd.read_csv('../input/usaidfinalsubmission/service_delivery_site_data.csv')"
   ]
  },
  {
   "cell_type": "code",
   "execution_count": 4,
   "metadata": {
    "execution": {
     "iopub.execute_input": "2020-08-30T17:01:41.554908Z",
     "iopub.status.busy": "2020-08-30T17:01:41.553859Z",
     "iopub.status.idle": "2020-08-30T17:01:41.559732Z",
     "shell.execute_reply": "2020-08-30T17:01:41.559080Z"
    },
    "papermill": {
     "duration": 0.052153,
     "end_time": "2020-08-30T17:01:41.559903",
     "exception": false,
     "start_time": "2020-08-30T17:01:41.507750",
     "status": "completed"
    },
    "tags": []
   },
   "outputs": [
    {
     "data": {
      "text/plain": [
       "Index(['year', 'month', 'region', 'district', 'site_code', 'product_code',\n",
       "       'stock_initial', 'stock_received', 'stock_distributed',\n",
       "       'stock_adjustment', 'stock_end', 'average_monthly_consumption',\n",
       "       'stock_stockout_days', 'stock_ordered'],\n",
       "      dtype='object')"
      ]
     },
     "execution_count": 4,
     "metadata": {},
     "output_type": "execute_result"
    }
   ],
   "source": [
    "train.columns"
   ]
  },
  {
   "cell_type": "code",
   "execution_count": 5,
   "metadata": {
    "execution": {
     "iopub.execute_input": "2020-08-30T17:01:41.643629Z",
     "iopub.status.busy": "2020-08-30T17:01:41.642825Z",
     "iopub.status.idle": "2020-08-30T17:01:41.648800Z",
     "shell.execute_reply": "2020-08-30T17:01:41.648023Z"
    },
    "papermill": {
     "duration": 0.051015,
     "end_time": "2020-08-30T17:01:41.648962",
     "exception": false,
     "start_time": "2020-08-30T17:01:41.597947",
     "status": "completed"
    },
    "tags": []
   },
   "outputs": [
    {
     "data": {
      "text/plain": [
       "Index(['year', 'month', 'site_code', 'product_code', 'predicted_value'], dtype='object')"
      ]
     },
     "execution_count": 5,
     "metadata": {},
     "output_type": "execute_result"
    }
   ],
   "source": [
    "test.columns"
   ]
  },
  {
   "cell_type": "code",
   "execution_count": 6,
   "metadata": {
    "execution": {
     "iopub.execute_input": "2020-08-30T17:01:41.743859Z",
     "iopub.status.busy": "2020-08-30T17:01:41.743099Z",
     "iopub.status.idle": "2020-08-30T17:01:41.755167Z",
     "shell.execute_reply": "2020-08-30T17:01:41.754489Z"
    },
    "papermill": {
     "duration": 0.067055,
     "end_time": "2020-08-30T17:01:41.755320",
     "exception": false,
     "start_time": "2020-08-30T17:01:41.688265",
     "status": "completed"
    },
    "tags": []
   },
   "outputs": [
    {
     "data": {
      "text/html": [
       "<div>\n",
       "<style scoped>\n",
       "    .dataframe tbody tr th:only-of-type {\n",
       "        vertical-align: middle;\n",
       "    }\n",
       "\n",
       "    .dataframe tbody tr th {\n",
       "        vertical-align: top;\n",
       "    }\n",
       "\n",
       "    .dataframe thead th {\n",
       "        text-align: right;\n",
       "    }\n",
       "</style>\n",
       "<table border=\"1\" class=\"dataframe\">\n",
       "  <thead>\n",
       "    <tr style=\"text-align: right;\">\n",
       "      <th></th>\n",
       "      <th>year</th>\n",
       "      <th>month</th>\n",
       "      <th>site_code</th>\n",
       "      <th>product_code</th>\n",
       "      <th>predicted_value</th>\n",
       "    </tr>\n",
       "  </thead>\n",
       "  <tbody>\n",
       "    <tr>\n",
       "      <th>0</th>\n",
       "      <td>2019</td>\n",
       "      <td>10</td>\n",
       "      <td>C4001</td>\n",
       "      <td>AS27134</td>\n",
       "      <td>0</td>\n",
       "    </tr>\n",
       "    <tr>\n",
       "      <th>1</th>\n",
       "      <td>2019</td>\n",
       "      <td>10</td>\n",
       "      <td>C4001</td>\n",
       "      <td>AS27132</td>\n",
       "      <td>0</td>\n",
       "    </tr>\n",
       "    <tr>\n",
       "      <th>2</th>\n",
       "      <td>2019</td>\n",
       "      <td>10</td>\n",
       "      <td>C4001</td>\n",
       "      <td>AS27000</td>\n",
       "      <td>0</td>\n",
       "    </tr>\n",
       "    <tr>\n",
       "      <th>3</th>\n",
       "      <td>2019</td>\n",
       "      <td>10</td>\n",
       "      <td>C4001</td>\n",
       "      <td>AS27137</td>\n",
       "      <td>0</td>\n",
       "    </tr>\n",
       "    <tr>\n",
       "      <th>4</th>\n",
       "      <td>2019</td>\n",
       "      <td>10</td>\n",
       "      <td>C4001</td>\n",
       "      <td>AS27138</td>\n",
       "      <td>0</td>\n",
       "    </tr>\n",
       "  </tbody>\n",
       "</table>\n",
       "</div>"
      ],
      "text/plain": [
       "   year  month site_code product_code  predicted_value\n",
       "0  2019     10     C4001      AS27134                0\n",
       "1  2019     10     C4001      AS27132                0\n",
       "2  2019     10     C4001      AS27000                0\n",
       "3  2019     10     C4001      AS27137                0\n",
       "4  2019     10     C4001      AS27138                0"
      ]
     },
     "execution_count": 6,
     "metadata": {},
     "output_type": "execute_result"
    }
   ],
   "source": [
    "test.head()"
   ]
  },
  {
   "cell_type": "code",
   "execution_count": 7,
   "metadata": {
    "execution": {
     "iopub.execute_input": "2020-08-30T17:01:41.845616Z",
     "iopub.status.busy": "2020-08-30T17:01:41.844521Z",
     "iopub.status.idle": "2020-08-30T17:01:41.850544Z",
     "shell.execute_reply": "2020-08-30T17:01:41.849709Z"
    },
    "papermill": {
     "duration": 0.054288,
     "end_time": "2020-08-30T17:01:41.850685",
     "exception": false,
     "start_time": "2020-08-30T17:01:41.796397",
     "status": "completed"
    },
    "tags": []
   },
   "outputs": [
    {
     "data": {
      "text/plain": [
       "Index(['site_code', 'site_type', 'site_region', 'site_district',\n",
       "       'site_latitude', 'site_longitude'],\n",
       "      dtype='object')"
      ]
     },
     "execution_count": 7,
     "metadata": {},
     "output_type": "execute_result"
    }
   ],
   "source": [
    "sd.columns"
   ]
  },
  {
   "cell_type": "code",
   "execution_count": 8,
   "metadata": {
    "execution": {
     "iopub.execute_input": "2020-08-30T17:01:41.951817Z",
     "iopub.status.busy": "2020-08-30T17:01:41.951034Z",
     "iopub.status.idle": "2020-08-30T17:01:41.957885Z",
     "shell.execute_reply": "2020-08-30T17:01:41.957052Z"
    },
    "papermill": {
     "duration": 0.063103,
     "end_time": "2020-08-30T17:01:41.958035",
     "exception": false,
     "start_time": "2020-08-30T17:01:41.894932",
     "status": "completed"
    },
    "tags": []
   },
   "outputs": [],
   "source": [
    "#drop columns in the training data that are not useful for builing the model\n",
    "train.drop(columns={'stock_initial', 'stock_received','stock_adjustment', \n",
    "                    'stock_end', 'average_monthly_consumption',\n",
    "                    'stock_stockout_days', 'stock_ordered'},inplace=True)"
   ]
  },
  {
   "cell_type": "code",
   "execution_count": 9,
   "metadata": {
    "execution": {
     "iopub.execute_input": "2020-08-30T17:01:42.045949Z",
     "iopub.status.busy": "2020-08-30T17:01:42.045193Z",
     "iopub.status.idle": "2020-08-30T17:01:42.049095Z",
     "shell.execute_reply": "2020-08-30T17:01:42.048417Z"
    },
    "papermill": {
     "duration": 0.051155,
     "end_time": "2020-08-30T17:01:42.049236",
     "exception": false,
     "start_time": "2020-08-30T17:01:41.998081",
     "status": "completed"
    },
    "tags": []
   },
   "outputs": [],
   "source": [
    "test.drop(['predicted_value'], axis =1, inplace = True)"
   ]
  },
  {
   "cell_type": "code",
   "execution_count": 10,
   "metadata": {
    "execution": {
     "iopub.execute_input": "2020-08-30T17:01:42.172266Z",
     "iopub.status.busy": "2020-08-30T17:01:42.171388Z",
     "iopub.status.idle": "2020-08-30T17:01:42.178235Z",
     "shell.execute_reply": "2020-08-30T17:01:42.177013Z"
    },
    "papermill": {
     "duration": 0.070851,
     "end_time": "2020-08-30T17:01:42.178468",
     "exception": false,
     "start_time": "2020-08-30T17:01:42.107617",
     "status": "completed"
    },
    "tags": []
   },
   "outputs": [
    {
     "data": {
      "text/html": [
       "<div>\n",
       "<style scoped>\n",
       "    .dataframe tbody tr th:only-of-type {\n",
       "        vertical-align: middle;\n",
       "    }\n",
       "\n",
       "    .dataframe tbody tr th {\n",
       "        vertical-align: top;\n",
       "    }\n",
       "\n",
       "    .dataframe thead th {\n",
       "        text-align: right;\n",
       "    }\n",
       "</style>\n",
       "<table border=\"1\" class=\"dataframe\">\n",
       "  <thead>\n",
       "    <tr style=\"text-align: right;\">\n",
       "      <th></th>\n",
       "      <th>year</th>\n",
       "      <th>month</th>\n",
       "      <th>site_code</th>\n",
       "      <th>product_code</th>\n",
       "    </tr>\n",
       "  </thead>\n",
       "  <tbody>\n",
       "    <tr>\n",
       "      <th>0</th>\n",
       "      <td>2019</td>\n",
       "      <td>10</td>\n",
       "      <td>C4001</td>\n",
       "      <td>AS27134</td>\n",
       "    </tr>\n",
       "    <tr>\n",
       "      <th>1</th>\n",
       "      <td>2019</td>\n",
       "      <td>10</td>\n",
       "      <td>C4001</td>\n",
       "      <td>AS27132</td>\n",
       "    </tr>\n",
       "    <tr>\n",
       "      <th>2</th>\n",
       "      <td>2019</td>\n",
       "      <td>10</td>\n",
       "      <td>C4001</td>\n",
       "      <td>AS27000</td>\n",
       "    </tr>\n",
       "    <tr>\n",
       "      <th>3</th>\n",
       "      <td>2019</td>\n",
       "      <td>10</td>\n",
       "      <td>C4001</td>\n",
       "      <td>AS27137</td>\n",
       "    </tr>\n",
       "    <tr>\n",
       "      <th>4</th>\n",
       "      <td>2019</td>\n",
       "      <td>10</td>\n",
       "      <td>C4001</td>\n",
       "      <td>AS27138</td>\n",
       "    </tr>\n",
       "  </tbody>\n",
       "</table>\n",
       "</div>"
      ],
      "text/plain": [
       "   year  month site_code product_code\n",
       "0  2019     10     C4001      AS27134\n",
       "1  2019     10     C4001      AS27132\n",
       "2  2019     10     C4001      AS27000\n",
       "3  2019     10     C4001      AS27137\n",
       "4  2019     10     C4001      AS27138"
      ]
     },
     "execution_count": 10,
     "metadata": {},
     "output_type": "execute_result"
    }
   ],
   "source": [
    "test.head()"
   ]
  },
  {
   "cell_type": "code",
   "execution_count": 11,
   "metadata": {
    "execution": {
     "iopub.execute_input": "2020-08-30T17:01:42.278505Z",
     "iopub.status.busy": "2020-08-30T17:01:42.277374Z",
     "iopub.status.idle": "2020-08-30T17:01:42.282823Z",
     "shell.execute_reply": "2020-08-30T17:01:42.282205Z"
    },
    "papermill": {
     "duration": 0.05629,
     "end_time": "2020-08-30T17:01:42.282993",
     "exception": false,
     "start_time": "2020-08-30T17:01:42.226703",
     "status": "completed"
    },
    "tags": []
   },
   "outputs": [
    {
     "data": {
      "text/plain": [
       "year             int64\n",
       "month            int64\n",
       "site_code       object\n",
       "product_code    object\n",
       "dtype: object"
      ]
     },
     "execution_count": 11,
     "metadata": {},
     "output_type": "execute_result"
    }
   ],
   "source": [
    "test.dtypes"
   ]
  },
  {
   "cell_type": "code",
   "execution_count": 12,
   "metadata": {
    "execution": {
     "iopub.execute_input": "2020-08-30T17:01:42.389523Z",
     "iopub.status.busy": "2020-08-30T17:01:42.388675Z",
     "iopub.status.idle": "2020-08-30T17:01:42.399657Z",
     "shell.execute_reply": "2020-08-30T17:01:42.400355Z"
    },
    "papermill": {
     "duration": 0.07204,
     "end_time": "2020-08-30T17:01:42.400520",
     "exception": false,
     "start_time": "2020-08-30T17:01:42.328480",
     "status": "completed"
    },
    "tags": []
   },
   "outputs": [],
   "source": [
    "test=pd.merge(test,sd,on='site_code',how='left') #Merge test data with service delivery site data\n",
    "test.rename(columns={'site_region':'region','site_district':'district'},inplace=True)\n",
    "test=test[['year', 'month', 'region','district','site_code', 'product_code']]"
   ]
  },
  {
   "cell_type": "code",
   "execution_count": 13,
   "metadata": {
    "execution": {
     "iopub.execute_input": "2020-08-30T17:01:42.503677Z",
     "iopub.status.busy": "2020-08-30T17:01:42.502654Z",
     "iopub.status.idle": "2020-08-30T17:01:42.508308Z",
     "shell.execute_reply": "2020-08-30T17:01:42.507640Z"
    },
    "papermill": {
     "duration": 0.06574,
     "end_time": "2020-08-30T17:01:42.508441",
     "exception": false,
     "start_time": "2020-08-30T17:01:42.442701",
     "status": "completed"
    },
    "tags": []
   },
   "outputs": [
    {
     "data": {
      "text/html": [
       "<div>\n",
       "<style scoped>\n",
       "    .dataframe tbody tr th:only-of-type {\n",
       "        vertical-align: middle;\n",
       "    }\n",
       "\n",
       "    .dataframe tbody tr th {\n",
       "        vertical-align: top;\n",
       "    }\n",
       "\n",
       "    .dataframe thead th {\n",
       "        text-align: right;\n",
       "    }\n",
       "</style>\n",
       "<table border=\"1\" class=\"dataframe\">\n",
       "  <thead>\n",
       "    <tr style=\"text-align: right;\">\n",
       "      <th></th>\n",
       "      <th>year</th>\n",
       "      <th>month</th>\n",
       "      <th>region</th>\n",
       "      <th>district</th>\n",
       "      <th>site_code</th>\n",
       "      <th>product_code</th>\n",
       "      <th>stock_distributed</th>\n",
       "    </tr>\n",
       "  </thead>\n",
       "  <tbody>\n",
       "    <tr>\n",
       "      <th>0</th>\n",
       "      <td>2019</td>\n",
       "      <td>1</td>\n",
       "      <td>INDENIE-DJUABLIN</td>\n",
       "      <td>ABENGOUROU</td>\n",
       "      <td>C4001</td>\n",
       "      <td>AS27134</td>\n",
       "      <td>21.0</td>\n",
       "    </tr>\n",
       "    <tr>\n",
       "      <th>1</th>\n",
       "      <td>2019</td>\n",
       "      <td>1</td>\n",
       "      <td>INDENIE-DJUABLIN</td>\n",
       "      <td>ABENGOUROU</td>\n",
       "      <td>C4001</td>\n",
       "      <td>AS27132</td>\n",
       "      <td>3.0</td>\n",
       "    </tr>\n",
       "    <tr>\n",
       "      <th>0</th>\n",
       "      <td>2019</td>\n",
       "      <td>10</td>\n",
       "      <td>INDENIE-DJUABLIN</td>\n",
       "      <td>ABENGOUROU</td>\n",
       "      <td>C4001</td>\n",
       "      <td>AS27134</td>\n",
       "      <td>NaN</td>\n",
       "    </tr>\n",
       "    <tr>\n",
       "      <th>1</th>\n",
       "      <td>2019</td>\n",
       "      <td>10</td>\n",
       "      <td>INDENIE-DJUABLIN</td>\n",
       "      <td>ABENGOUROU</td>\n",
       "      <td>C4001</td>\n",
       "      <td>AS27132</td>\n",
       "      <td>NaN</td>\n",
       "    </tr>\n",
       "  </tbody>\n",
       "</table>\n",
       "</div>"
      ],
      "text/plain": [
       "   year  month            region    district site_code product_code  \\\n",
       "0  2019      1  INDENIE-DJUABLIN  ABENGOUROU     C4001      AS27134   \n",
       "1  2019      1  INDENIE-DJUABLIN  ABENGOUROU     C4001      AS27132   \n",
       "0  2019     10  INDENIE-DJUABLIN  ABENGOUROU     C4001      AS27134   \n",
       "1  2019     10  INDENIE-DJUABLIN  ABENGOUROU     C4001      AS27132   \n",
       "\n",
       "   stock_distributed  \n",
       "0               21.0  \n",
       "1                3.0  \n",
       "0                NaN  \n",
       "1                NaN  "
      ]
     },
     "execution_count": 13,
     "metadata": {},
     "output_type": "execute_result"
    }
   ],
   "source": [
    "train.head(2).append(test.head(2))"
   ]
  },
  {
   "cell_type": "code",
   "execution_count": 14,
   "metadata": {
    "execution": {
     "iopub.execute_input": "2020-08-30T17:01:42.610019Z",
     "iopub.status.busy": "2020-08-30T17:01:42.608796Z",
     "iopub.status.idle": "2020-08-30T17:01:42.631642Z",
     "shell.execute_reply": "2020-08-30T17:01:42.631032Z"
    },
    "papermill": {
     "duration": 0.078247,
     "end_time": "2020-08-30T17:01:42.631776",
     "exception": false,
     "start_time": "2020-08-30T17:01:42.553529",
     "status": "completed"
    },
    "tags": []
   },
   "outputs": [],
   "source": [
    "train['train_or_test']='train'\n",
    "test['train_or_test']='test'\n",
    "df=pd.concat([train,test])"
   ]
  },
  {
   "cell_type": "code",
   "execution_count": 15,
   "metadata": {
    "execution": {
     "iopub.execute_input": "2020-08-30T17:01:42.741172Z",
     "iopub.status.busy": "2020-08-30T17:01:42.731775Z",
     "iopub.status.idle": "2020-08-30T17:01:42.843423Z",
     "shell.execute_reply": "2020-08-30T17:01:42.842666Z"
    },
    "papermill": {
     "duration": 0.164742,
     "end_time": "2020-08-30T17:01:42.843566",
     "exception": false,
     "start_time": "2020-08-30T17:01:42.678824",
     "status": "completed"
    },
    "tags": []
   },
   "outputs": [],
   "source": [
    "#Label encode region, district, site_code and product_code so its values can be accepted by the model\n",
    "from sklearn.preprocessing import LabelEncoder\n",
    "le = LabelEncoder()\n",
    "\n",
    "for col in ['region','district','site_code','product_code']:\n",
    "    df[col]=  df[col].astype('str')\n",
    "    df[col]= le.fit_transform(df[col])"
   ]
  },
  {
   "cell_type": "code",
   "execution_count": 16,
   "metadata": {
    "execution": {
     "iopub.execute_input": "2020-08-30T17:01:42.941538Z",
     "iopub.status.busy": "2020-08-30T17:01:42.940236Z",
     "iopub.status.idle": "2020-08-30T17:01:42.961249Z",
     "shell.execute_reply": "2020-08-30T17:01:42.960221Z"
    },
    "papermill": {
     "duration": 0.074971,
     "end_time": "2020-08-30T17:01:42.961431",
     "exception": false,
     "start_time": "2020-08-30T17:01:42.886460",
     "status": "completed"
    },
    "tags": []
   },
   "outputs": [
    {
     "name": "stderr",
     "output_type": "stream",
     "text": [
      "/opt/conda/lib/python3.7/site-packages/pandas/core/frame.py:4164: SettingWithCopyWarning: \n",
      "A value is trying to be set on a copy of a slice from a DataFrame\n",
      "\n",
      "See the caveats in the documentation: https://pandas.pydata.org/pandas-docs/stable/user_guide/indexing.html#returning-a-view-versus-a-copy\n",
      "  errors=errors,\n"
     ]
    }
   ],
   "source": [
    "train=df.loc[df.train_or_test.isin(['train'])]\n",
    "test=df.loc[df.train_or_test.isin(['test'])]\n",
    "train.drop(columns={'train_or_test'},axis=1,inplace=True)\n",
    "test.drop(columns={'train_or_test'},axis=1,inplace=True)"
   ]
  },
  {
   "cell_type": "code",
   "execution_count": 17,
   "metadata": {
    "execution": {
     "iopub.execute_input": "2020-08-30T17:01:43.073813Z",
     "iopub.status.busy": "2020-08-30T17:01:43.072809Z",
     "iopub.status.idle": "2020-08-30T17:01:43.078025Z",
     "shell.execute_reply": "2020-08-30T17:01:43.077386Z"
    },
    "papermill": {
     "duration": 0.066976,
     "end_time": "2020-08-30T17:01:43.078162",
     "exception": false,
     "start_time": "2020-08-30T17:01:43.011186",
     "status": "completed"
    },
    "tags": []
   },
   "outputs": [
    {
     "data": {
      "text/html": [
       "<div>\n",
       "<style scoped>\n",
       "    .dataframe tbody tr th:only-of-type {\n",
       "        vertical-align: middle;\n",
       "    }\n",
       "\n",
       "    .dataframe tbody tr th {\n",
       "        vertical-align: top;\n",
       "    }\n",
       "\n",
       "    .dataframe thead th {\n",
       "        text-align: right;\n",
       "    }\n",
       "</style>\n",
       "<table border=\"1\" class=\"dataframe\">\n",
       "  <thead>\n",
       "    <tr style=\"text-align: right;\">\n",
       "      <th></th>\n",
       "      <th>year</th>\n",
       "      <th>month</th>\n",
       "      <th>region</th>\n",
       "      <th>district</th>\n",
       "      <th>site_code</th>\n",
       "      <th>product_code</th>\n",
       "      <th>stock_distributed</th>\n",
       "    </tr>\n",
       "  </thead>\n",
       "  <tbody>\n",
       "    <tr>\n",
       "      <th>0</th>\n",
       "      <td>2019</td>\n",
       "      <td>1</td>\n",
       "      <td>11</td>\n",
       "      <td>0</td>\n",
       "      <td>119</td>\n",
       "      <td>5</td>\n",
       "      <td>21.0</td>\n",
       "    </tr>\n",
       "    <tr>\n",
       "      <th>1</th>\n",
       "      <td>2019</td>\n",
       "      <td>1</td>\n",
       "      <td>11</td>\n",
       "      <td>0</td>\n",
       "      <td>119</td>\n",
       "      <td>3</td>\n",
       "      <td>3.0</td>\n",
       "    </tr>\n",
       "    <tr>\n",
       "      <th>2</th>\n",
       "      <td>2019</td>\n",
       "      <td>1</td>\n",
       "      <td>11</td>\n",
       "      <td>0</td>\n",
       "      <td>119</td>\n",
       "      <td>2</td>\n",
       "      <td>22.0</td>\n",
       "    </tr>\n",
       "    <tr>\n",
       "      <th>3</th>\n",
       "      <td>2019</td>\n",
       "      <td>1</td>\n",
       "      <td>11</td>\n",
       "      <td>0</td>\n",
       "      <td>119</td>\n",
       "      <td>6</td>\n",
       "      <td>0.0</td>\n",
       "    </tr>\n",
       "    <tr>\n",
       "      <th>4</th>\n",
       "      <td>2019</td>\n",
       "      <td>1</td>\n",
       "      <td>11</td>\n",
       "      <td>0</td>\n",
       "      <td>119</td>\n",
       "      <td>7</td>\n",
       "      <td>2.0</td>\n",
       "    </tr>\n",
       "  </tbody>\n",
       "</table>\n",
       "</div>"
      ],
      "text/plain": [
       "   year  month  region  district  site_code  product_code  stock_distributed\n",
       "0  2019      1      11         0        119             5               21.0\n",
       "1  2019      1      11         0        119             3                3.0\n",
       "2  2019      1      11         0        119             2               22.0\n",
       "3  2019      1      11         0        119             6                0.0\n",
       "4  2019      1      11         0        119             7                2.0"
      ]
     },
     "execution_count": 17,
     "metadata": {},
     "output_type": "execute_result"
    }
   ],
   "source": [
    "train.head()"
   ]
  },
  {
   "cell_type": "code",
   "execution_count": 18,
   "metadata": {
    "execution": {
     "iopub.execute_input": "2020-08-30T17:01:43.178301Z",
     "iopub.status.busy": "2020-08-30T17:01:43.177105Z",
     "iopub.status.idle": "2020-08-30T17:01:43.184435Z",
     "shell.execute_reply": "2020-08-30T17:01:43.183615Z"
    },
    "papermill": {
     "duration": 0.060368,
     "end_time": "2020-08-30T17:01:43.184585",
     "exception": false,
     "start_time": "2020-08-30T17:01:43.124217",
     "status": "completed"
    },
    "tags": []
   },
   "outputs": [
    {
     "data": {
      "text/plain": [
       "array([2019, 2018, 2017, 2016])"
      ]
     },
     "execution_count": 18,
     "metadata": {},
     "output_type": "execute_result"
    }
   ],
   "source": [
    "train.year.unique()"
   ]
  },
  {
   "cell_type": "code",
   "execution_count": 19,
   "metadata": {
    "execution": {
     "iopub.execute_input": "2020-08-30T17:01:43.290651Z",
     "iopub.status.busy": "2020-08-30T17:01:43.289234Z",
     "iopub.status.idle": "2020-08-30T17:01:43.294545Z",
     "shell.execute_reply": "2020-08-30T17:01:43.295132Z"
    },
    "papermill": {
     "duration": 0.065223,
     "end_time": "2020-08-30T17:01:43.295356",
     "exception": false,
     "start_time": "2020-08-30T17:01:43.230133",
     "status": "completed"
    },
    "tags": []
   },
   "outputs": [
    {
     "data": {
      "text/html": [
       "<div>\n",
       "<style scoped>\n",
       "    .dataframe tbody tr th:only-of-type {\n",
       "        vertical-align: middle;\n",
       "    }\n",
       "\n",
       "    .dataframe tbody tr th {\n",
       "        vertical-align: top;\n",
       "    }\n",
       "\n",
       "    .dataframe thead th {\n",
       "        text-align: right;\n",
       "    }\n",
       "</style>\n",
       "<table border=\"1\" class=\"dataframe\">\n",
       "  <thead>\n",
       "    <tr style=\"text-align: right;\">\n",
       "      <th></th>\n",
       "      <th>year</th>\n",
       "      <th>month</th>\n",
       "      <th>region</th>\n",
       "      <th>district</th>\n",
       "      <th>site_code</th>\n",
       "      <th>product_code</th>\n",
       "      <th>stock_distributed</th>\n",
       "    </tr>\n",
       "  </thead>\n",
       "  <tbody>\n",
       "    <tr>\n",
       "      <th>0</th>\n",
       "      <td>2019</td>\n",
       "      <td>10</td>\n",
       "      <td>11</td>\n",
       "      <td>0</td>\n",
       "      <td>119</td>\n",
       "      <td>5</td>\n",
       "      <td>NaN</td>\n",
       "    </tr>\n",
       "    <tr>\n",
       "      <th>1</th>\n",
       "      <td>2019</td>\n",
       "      <td>10</td>\n",
       "      <td>11</td>\n",
       "      <td>0</td>\n",
       "      <td>119</td>\n",
       "      <td>3</td>\n",
       "      <td>NaN</td>\n",
       "    </tr>\n",
       "    <tr>\n",
       "      <th>2</th>\n",
       "      <td>2019</td>\n",
       "      <td>10</td>\n",
       "      <td>11</td>\n",
       "      <td>0</td>\n",
       "      <td>119</td>\n",
       "      <td>2</td>\n",
       "      <td>NaN</td>\n",
       "    </tr>\n",
       "    <tr>\n",
       "      <th>3</th>\n",
       "      <td>2019</td>\n",
       "      <td>10</td>\n",
       "      <td>11</td>\n",
       "      <td>0</td>\n",
       "      <td>119</td>\n",
       "      <td>6</td>\n",
       "      <td>NaN</td>\n",
       "    </tr>\n",
       "    <tr>\n",
       "      <th>4</th>\n",
       "      <td>2019</td>\n",
       "      <td>10</td>\n",
       "      <td>11</td>\n",
       "      <td>0</td>\n",
       "      <td>119</td>\n",
       "      <td>7</td>\n",
       "      <td>NaN</td>\n",
       "    </tr>\n",
       "  </tbody>\n",
       "</table>\n",
       "</div>"
      ],
      "text/plain": [
       "   year  month  region  district  site_code  product_code  stock_distributed\n",
       "0  2019     10      11         0        119             5                NaN\n",
       "1  2019     10      11         0        119             3                NaN\n",
       "2  2019     10      11         0        119             2                NaN\n",
       "3  2019     10      11         0        119             6                NaN\n",
       "4  2019     10      11         0        119             7                NaN"
      ]
     },
     "execution_count": 19,
     "metadata": {},
     "output_type": "execute_result"
    }
   ],
   "source": [
    "test.head()"
   ]
  },
  {
   "cell_type": "code",
   "execution_count": 20,
   "metadata": {
    "execution": {
     "iopub.execute_input": "2020-08-30T17:01:43.398828Z",
     "iopub.status.busy": "2020-08-30T17:01:43.397800Z",
     "iopub.status.idle": "2020-08-30T17:01:43.404996Z",
     "shell.execute_reply": "2020-08-30T17:01:43.404278Z"
    },
    "papermill": {
     "duration": 0.060088,
     "end_time": "2020-08-30T17:01:43.405134",
     "exception": false,
     "start_time": "2020-08-30T17:01:43.345046",
     "status": "completed"
    },
    "tags": []
   },
   "outputs": [
    {
     "data": {
      "text/plain": [
       "array([2019])"
      ]
     },
     "execution_count": 20,
     "metadata": {},
     "output_type": "execute_result"
    }
   ],
   "source": [
    "test.year.unique()"
   ]
  },
  {
   "cell_type": "code",
   "execution_count": 21,
   "metadata": {
    "execution": {
     "iopub.execute_input": "2020-08-30T17:01:43.509491Z",
     "iopub.status.busy": "2020-08-30T17:01:43.508599Z",
     "iopub.status.idle": "2020-08-30T17:01:43.518616Z",
     "shell.execute_reply": "2020-08-30T17:01:43.517837Z"
    },
    "papermill": {
     "duration": 0.067071,
     "end_time": "2020-08-30T17:01:43.518755",
     "exception": false,
     "start_time": "2020-08-30T17:01:43.451684",
     "status": "completed"
    },
    "tags": []
   },
   "outputs": [
    {
     "name": "stderr",
     "output_type": "stream",
     "text": [
      "/opt/conda/lib/python3.7/site-packages/ipykernel_launcher.py:2: SettingWithCopyWarning: \n",
      "A value is trying to be set on a copy of a slice from a DataFrame.\n",
      "Try using .loc[row_indexer,col_indexer] = value instead\n",
      "\n",
      "See the caveats in the documentation: https://pandas.pydata.org/pandas-docs/stable/user_guide/indexing.html#returning-a-view-versus-a-copy\n",
      "  \n",
      "/opt/conda/lib/python3.7/site-packages/ipykernel_launcher.py:3: SettingWithCopyWarning: \n",
      "A value is trying to be set on a copy of a slice from a DataFrame.\n",
      "Try using .loc[row_indexer,col_indexer] = value instead\n",
      "\n",
      "See the caveats in the documentation: https://pandas.pydata.org/pandas-docs/stable/user_guide/indexing.html#returning-a-view-versus-a-copy\n",
      "  This is separate from the ipykernel package so we can avoid doing imports until\n"
     ]
    }
   ],
   "source": [
    "#convert product code in both train and test data from numerical variable to categorical variable\n",
    "train['product_code'] = train['product_code'].astype('category')\n",
    "test['product_code'] = test['product_code'].astype('category')"
   ]
  },
  {
   "cell_type": "code",
   "execution_count": 22,
   "metadata": {
    "execution": {
     "iopub.execute_input": "2020-08-30T17:01:43.635961Z",
     "iopub.status.busy": "2020-08-30T17:01:43.634579Z",
     "iopub.status.idle": "2020-08-30T17:01:43.642563Z",
     "shell.execute_reply": "2020-08-30T17:01:43.643194Z"
    },
    "papermill": {
     "duration": 0.074793,
     "end_time": "2020-08-30T17:01:43.643375",
     "exception": false,
     "start_time": "2020-08-30T17:01:43.568582",
     "status": "completed"
    },
    "tags": []
   },
   "outputs": [],
   "source": [
    "train =pd.get_dummies(train, drop_first = True)"
   ]
  },
  {
   "cell_type": "code",
   "execution_count": 23,
   "metadata": {
    "execution": {
     "iopub.execute_input": "2020-08-30T17:01:43.746979Z",
     "iopub.status.busy": "2020-08-30T17:01:43.746084Z",
     "iopub.status.idle": "2020-08-30T17:01:43.750423Z",
     "shell.execute_reply": "2020-08-30T17:01:43.751040Z"
    },
    "papermill": {
     "duration": 0.059457,
     "end_time": "2020-08-30T17:01:43.751237",
     "exception": false,
     "start_time": "2020-08-30T17:01:43.691780",
     "status": "completed"
    },
    "tags": []
   },
   "outputs": [
    {
     "data": {
      "text/plain": [
       "Index(['year', 'month', 'region', 'district', 'site_code', 'stock_distributed',\n",
       "       'product_code_1', 'product_code_2', 'product_code_3', 'product_code_4',\n",
       "       'product_code_5', 'product_code_6', 'product_code_7', 'product_code_8',\n",
       "       'product_code_9', 'product_code_10'],\n",
       "      dtype='object')"
      ]
     },
     "execution_count": 23,
     "metadata": {},
     "output_type": "execute_result"
    }
   ],
   "source": [
    "train.columns"
   ]
  },
  {
   "cell_type": "code",
   "execution_count": 24,
   "metadata": {
    "execution": {
     "iopub.execute_input": "2020-08-30T17:01:43.862524Z",
     "iopub.status.busy": "2020-08-30T17:01:43.861727Z",
     "iopub.status.idle": "2020-08-30T17:01:43.865311Z",
     "shell.execute_reply": "2020-08-30T17:01:43.865845Z"
    },
    "papermill": {
     "duration": 0.065955,
     "end_time": "2020-08-30T17:01:43.866056",
     "exception": false,
     "start_time": "2020-08-30T17:01:43.800101",
     "status": "completed"
    },
    "tags": []
   },
   "outputs": [],
   "source": [
    "test =pd.get_dummies(test, drop_first = True)"
   ]
  },
  {
   "cell_type": "code",
   "execution_count": 25,
   "metadata": {
    "execution": {
     "iopub.execute_input": "2020-08-30T17:01:43.969136Z",
     "iopub.status.busy": "2020-08-30T17:01:43.968124Z",
     "iopub.status.idle": "2020-08-30T17:01:43.975246Z",
     "shell.execute_reply": "2020-08-30T17:01:43.974436Z"
    },
    "papermill": {
     "duration": 0.061249,
     "end_time": "2020-08-30T17:01:43.975390",
     "exception": false,
     "start_time": "2020-08-30T17:01:43.914141",
     "status": "completed"
    },
    "tags": []
   },
   "outputs": [
    {
     "data": {
      "text/plain": [
       "Index(['year', 'month', 'region', 'district', 'site_code', 'stock_distributed',\n",
       "       'product_code_1', 'product_code_2', 'product_code_3', 'product_code_4',\n",
       "       'product_code_5', 'product_code_6', 'product_code_7', 'product_code_8',\n",
       "       'product_code_9', 'product_code_10'],\n",
       "      dtype='object')"
      ]
     },
     "execution_count": 25,
     "metadata": {},
     "output_type": "execute_result"
    }
   ],
   "source": [
    "test.columns"
   ]
  },
  {
   "cell_type": "code",
   "execution_count": 26,
   "metadata": {
    "execution": {
     "iopub.execute_input": "2020-08-30T17:01:44.080857Z",
     "iopub.status.busy": "2020-08-30T17:01:44.079728Z",
     "iopub.status.idle": "2020-08-30T17:01:44.085415Z",
     "shell.execute_reply": "2020-08-30T17:01:44.084592Z"
    },
    "papermill": {
     "duration": 0.061739,
     "end_time": "2020-08-30T17:01:44.085568",
     "exception": false,
     "start_time": "2020-08-30T17:01:44.023829",
     "status": "completed"
    },
    "tags": []
   },
   "outputs": [
    {
     "data": {
      "text/plain": [
       "Index(['year', 'month', 'region', 'district', 'site_code', 'stock_distributed',\n",
       "       'product_code_1', 'product_code_2', 'product_code_3', 'product_code_4',\n",
       "       'product_code_5', 'product_code_6', 'product_code_7', 'product_code_8',\n",
       "       'product_code_9', 'product_code_10'],\n",
       "      dtype='object')"
      ]
     },
     "execution_count": 26,
     "metadata": {},
     "output_type": "execute_result"
    }
   ],
   "source": [
    "train.columns"
   ]
  },
  {
   "cell_type": "code",
   "execution_count": 27,
   "metadata": {
    "execution": {
     "iopub.execute_input": "2020-08-30T17:01:44.194903Z",
     "iopub.status.busy": "2020-08-30T17:01:44.193929Z",
     "iopub.status.idle": "2020-08-30T17:01:44.198480Z",
     "shell.execute_reply": "2020-08-30T17:01:44.199091Z"
    },
    "papermill": {
     "duration": 0.063008,
     "end_time": "2020-08-30T17:01:44.199267",
     "exception": false,
     "start_time": "2020-08-30T17:01:44.136259",
     "status": "completed"
    },
    "tags": []
   },
   "outputs": [
    {
     "data": {
      "text/plain": [
       "(3115, 3115)"
      ]
     },
     "execution_count": 27,
     "metadata": {},
     "output_type": "execute_result"
    }
   ],
   "source": [
    "#both test and submission data have the same number of records after data preprocessing\n",
    "len(test), len(sub)"
   ]
  },
  {
   "cell_type": "code",
   "execution_count": 28,
   "metadata": {
    "execution": {
     "iopub.execute_input": "2020-08-30T17:01:44.324986Z",
     "iopub.status.busy": "2020-08-30T17:01:44.324213Z",
     "iopub.status.idle": "2020-08-30T17:01:44.329899Z",
     "shell.execute_reply": "2020-08-30T17:01:44.329263Z"
    },
    "papermill": {
     "duration": 0.079424,
     "end_time": "2020-08-30T17:01:44.330027",
     "exception": false,
     "start_time": "2020-08-30T17:01:44.250603",
     "status": "completed"
    },
    "tags": []
   },
   "outputs": [
    {
     "data": {
      "text/html": [
       "<div>\n",
       "<style scoped>\n",
       "    .dataframe tbody tr th:only-of-type {\n",
       "        vertical-align: middle;\n",
       "    }\n",
       "\n",
       "    .dataframe tbody tr th {\n",
       "        vertical-align: top;\n",
       "    }\n",
       "\n",
       "    .dataframe thead th {\n",
       "        text-align: right;\n",
       "    }\n",
       "</style>\n",
       "<table border=\"1\" class=\"dataframe\">\n",
       "  <thead>\n",
       "    <tr style=\"text-align: right;\">\n",
       "      <th></th>\n",
       "      <th>year</th>\n",
       "      <th>month</th>\n",
       "      <th>region</th>\n",
       "      <th>district</th>\n",
       "      <th>site_code</th>\n",
       "      <th>stock_distributed</th>\n",
       "      <th>product_code_1</th>\n",
       "      <th>product_code_2</th>\n",
       "      <th>product_code_3</th>\n",
       "      <th>product_code_4</th>\n",
       "      <th>product_code_5</th>\n",
       "      <th>product_code_6</th>\n",
       "      <th>product_code_7</th>\n",
       "      <th>product_code_8</th>\n",
       "      <th>product_code_9</th>\n",
       "      <th>product_code_10</th>\n",
       "    </tr>\n",
       "  </thead>\n",
       "  <tbody>\n",
       "    <tr>\n",
       "      <th>0</th>\n",
       "      <td>2019</td>\n",
       "      <td>1</td>\n",
       "      <td>11</td>\n",
       "      <td>0</td>\n",
       "      <td>119</td>\n",
       "      <td>21.0</td>\n",
       "      <td>0</td>\n",
       "      <td>0</td>\n",
       "      <td>0</td>\n",
       "      <td>0</td>\n",
       "      <td>1</td>\n",
       "      <td>0</td>\n",
       "      <td>0</td>\n",
       "      <td>0</td>\n",
       "      <td>0</td>\n",
       "      <td>0</td>\n",
       "    </tr>\n",
       "    <tr>\n",
       "      <th>1</th>\n",
       "      <td>2019</td>\n",
       "      <td>1</td>\n",
       "      <td>11</td>\n",
       "      <td>0</td>\n",
       "      <td>119</td>\n",
       "      <td>3.0</td>\n",
       "      <td>0</td>\n",
       "      <td>0</td>\n",
       "      <td>1</td>\n",
       "      <td>0</td>\n",
       "      <td>0</td>\n",
       "      <td>0</td>\n",
       "      <td>0</td>\n",
       "      <td>0</td>\n",
       "      <td>0</td>\n",
       "      <td>0</td>\n",
       "    </tr>\n",
       "    <tr>\n",
       "      <th>2</th>\n",
       "      <td>2019</td>\n",
       "      <td>1</td>\n",
       "      <td>11</td>\n",
       "      <td>0</td>\n",
       "      <td>119</td>\n",
       "      <td>22.0</td>\n",
       "      <td>0</td>\n",
       "      <td>1</td>\n",
       "      <td>0</td>\n",
       "      <td>0</td>\n",
       "      <td>0</td>\n",
       "      <td>0</td>\n",
       "      <td>0</td>\n",
       "      <td>0</td>\n",
       "      <td>0</td>\n",
       "      <td>0</td>\n",
       "    </tr>\n",
       "    <tr>\n",
       "      <th>3</th>\n",
       "      <td>2019</td>\n",
       "      <td>1</td>\n",
       "      <td>11</td>\n",
       "      <td>0</td>\n",
       "      <td>119</td>\n",
       "      <td>0.0</td>\n",
       "      <td>0</td>\n",
       "      <td>0</td>\n",
       "      <td>0</td>\n",
       "      <td>0</td>\n",
       "      <td>0</td>\n",
       "      <td>1</td>\n",
       "      <td>0</td>\n",
       "      <td>0</td>\n",
       "      <td>0</td>\n",
       "      <td>0</td>\n",
       "    </tr>\n",
       "    <tr>\n",
       "      <th>4</th>\n",
       "      <td>2019</td>\n",
       "      <td>1</td>\n",
       "      <td>11</td>\n",
       "      <td>0</td>\n",
       "      <td>119</td>\n",
       "      <td>2.0</td>\n",
       "      <td>0</td>\n",
       "      <td>0</td>\n",
       "      <td>0</td>\n",
       "      <td>0</td>\n",
       "      <td>0</td>\n",
       "      <td>0</td>\n",
       "      <td>1</td>\n",
       "      <td>0</td>\n",
       "      <td>0</td>\n",
       "      <td>0</td>\n",
       "    </tr>\n",
       "  </tbody>\n",
       "</table>\n",
       "</div>"
      ],
      "text/plain": [
       "   year  month  region  district  site_code  stock_distributed  \\\n",
       "0  2019      1      11         0        119               21.0   \n",
       "1  2019      1      11         0        119                3.0   \n",
       "2  2019      1      11         0        119               22.0   \n",
       "3  2019      1      11         0        119                0.0   \n",
       "4  2019      1      11         0        119                2.0   \n",
       "\n",
       "   product_code_1  product_code_2  product_code_3  product_code_4  \\\n",
       "0               0               0               0               0   \n",
       "1               0               0               1               0   \n",
       "2               0               1               0               0   \n",
       "3               0               0               0               0   \n",
       "4               0               0               0               0   \n",
       "\n",
       "   product_code_5  product_code_6  product_code_7  product_code_8  \\\n",
       "0               1               0               0               0   \n",
       "1               0               0               0               0   \n",
       "2               0               0               0               0   \n",
       "3               0               1               0               0   \n",
       "4               0               0               1               0   \n",
       "\n",
       "   product_code_9  product_code_10  \n",
       "0               0                0  \n",
       "1               0                0  \n",
       "2               0                0  \n",
       "3               0                0  \n",
       "4               0                0  "
      ]
     },
     "execution_count": 28,
     "metadata": {},
     "output_type": "execute_result"
    }
   ],
   "source": [
    "train.head()"
   ]
  },
  {
   "cell_type": "code",
   "execution_count": 29,
   "metadata": {
    "execution": {
     "iopub.execute_input": "2020-08-30T17:01:44.456661Z",
     "iopub.status.busy": "2020-08-30T17:01:44.441904Z",
     "iopub.status.idle": "2020-08-30T17:01:44.463941Z",
     "shell.execute_reply": "2020-08-30T17:01:44.463128Z"
    },
    "papermill": {
     "duration": 0.08063,
     "end_time": "2020-08-30T17:01:44.464091",
     "exception": false,
     "start_time": "2020-08-30T17:01:44.383461",
     "status": "completed"
    },
    "tags": []
   },
   "outputs": [
    {
     "data": {
      "text/html": [
       "<div>\n",
       "<style scoped>\n",
       "    .dataframe tbody tr th:only-of-type {\n",
       "        vertical-align: middle;\n",
       "    }\n",
       "\n",
       "    .dataframe tbody tr th {\n",
       "        vertical-align: top;\n",
       "    }\n",
       "\n",
       "    .dataframe thead th {\n",
       "        text-align: right;\n",
       "    }\n",
       "</style>\n",
       "<table border=\"1\" class=\"dataframe\">\n",
       "  <thead>\n",
       "    <tr style=\"text-align: right;\">\n",
       "      <th></th>\n",
       "      <th>year</th>\n",
       "      <th>month</th>\n",
       "      <th>region</th>\n",
       "      <th>district</th>\n",
       "      <th>site_code</th>\n",
       "      <th>stock_distributed</th>\n",
       "      <th>product_code_1</th>\n",
       "      <th>product_code_2</th>\n",
       "      <th>product_code_3</th>\n",
       "      <th>product_code_4</th>\n",
       "      <th>product_code_5</th>\n",
       "      <th>product_code_6</th>\n",
       "      <th>product_code_7</th>\n",
       "      <th>product_code_8</th>\n",
       "      <th>product_code_9</th>\n",
       "      <th>product_code_10</th>\n",
       "    </tr>\n",
       "  </thead>\n",
       "  <tbody>\n",
       "    <tr>\n",
       "      <th>0</th>\n",
       "      <td>2019</td>\n",
       "      <td>10</td>\n",
       "      <td>11</td>\n",
       "      <td>0</td>\n",
       "      <td>119</td>\n",
       "      <td>NaN</td>\n",
       "      <td>0</td>\n",
       "      <td>0</td>\n",
       "      <td>0</td>\n",
       "      <td>0</td>\n",
       "      <td>1</td>\n",
       "      <td>0</td>\n",
       "      <td>0</td>\n",
       "      <td>0</td>\n",
       "      <td>0</td>\n",
       "      <td>0</td>\n",
       "    </tr>\n",
       "    <tr>\n",
       "      <th>1</th>\n",
       "      <td>2019</td>\n",
       "      <td>10</td>\n",
       "      <td>11</td>\n",
       "      <td>0</td>\n",
       "      <td>119</td>\n",
       "      <td>NaN</td>\n",
       "      <td>0</td>\n",
       "      <td>0</td>\n",
       "      <td>1</td>\n",
       "      <td>0</td>\n",
       "      <td>0</td>\n",
       "      <td>0</td>\n",
       "      <td>0</td>\n",
       "      <td>0</td>\n",
       "      <td>0</td>\n",
       "      <td>0</td>\n",
       "    </tr>\n",
       "    <tr>\n",
       "      <th>2</th>\n",
       "      <td>2019</td>\n",
       "      <td>10</td>\n",
       "      <td>11</td>\n",
       "      <td>0</td>\n",
       "      <td>119</td>\n",
       "      <td>NaN</td>\n",
       "      <td>0</td>\n",
       "      <td>1</td>\n",
       "      <td>0</td>\n",
       "      <td>0</td>\n",
       "      <td>0</td>\n",
       "      <td>0</td>\n",
       "      <td>0</td>\n",
       "      <td>0</td>\n",
       "      <td>0</td>\n",
       "      <td>0</td>\n",
       "    </tr>\n",
       "    <tr>\n",
       "      <th>3</th>\n",
       "      <td>2019</td>\n",
       "      <td>10</td>\n",
       "      <td>11</td>\n",
       "      <td>0</td>\n",
       "      <td>119</td>\n",
       "      <td>NaN</td>\n",
       "      <td>0</td>\n",
       "      <td>0</td>\n",
       "      <td>0</td>\n",
       "      <td>0</td>\n",
       "      <td>0</td>\n",
       "      <td>1</td>\n",
       "      <td>0</td>\n",
       "      <td>0</td>\n",
       "      <td>0</td>\n",
       "      <td>0</td>\n",
       "    </tr>\n",
       "    <tr>\n",
       "      <th>4</th>\n",
       "      <td>2019</td>\n",
       "      <td>10</td>\n",
       "      <td>11</td>\n",
       "      <td>0</td>\n",
       "      <td>119</td>\n",
       "      <td>NaN</td>\n",
       "      <td>0</td>\n",
       "      <td>0</td>\n",
       "      <td>0</td>\n",
       "      <td>0</td>\n",
       "      <td>0</td>\n",
       "      <td>0</td>\n",
       "      <td>1</td>\n",
       "      <td>0</td>\n",
       "      <td>0</td>\n",
       "      <td>0</td>\n",
       "    </tr>\n",
       "  </tbody>\n",
       "</table>\n",
       "</div>"
      ],
      "text/plain": [
       "   year  month  region  district  site_code  stock_distributed  \\\n",
       "0  2019     10      11         0        119                NaN   \n",
       "1  2019     10      11         0        119                NaN   \n",
       "2  2019     10      11         0        119                NaN   \n",
       "3  2019     10      11         0        119                NaN   \n",
       "4  2019     10      11         0        119                NaN   \n",
       "\n",
       "   product_code_1  product_code_2  product_code_3  product_code_4  \\\n",
       "0               0               0               0               0   \n",
       "1               0               0               1               0   \n",
       "2               0               1               0               0   \n",
       "3               0               0               0               0   \n",
       "4               0               0               0               0   \n",
       "\n",
       "   product_code_5  product_code_6  product_code_7  product_code_8  \\\n",
       "0               1               0               0               0   \n",
       "1               0               0               0               0   \n",
       "2               0               0               0               0   \n",
       "3               0               1               0               0   \n",
       "4               0               0               1               0   \n",
       "\n",
       "   product_code_9  product_code_10  \n",
       "0               0                0  \n",
       "1               0                0  \n",
       "2               0                0  \n",
       "3               0                0  \n",
       "4               0                0  "
      ]
     },
     "execution_count": 29,
     "metadata": {},
     "output_type": "execute_result"
    }
   ],
   "source": [
    "test.head()"
   ]
  },
  {
   "cell_type": "code",
   "execution_count": 30,
   "metadata": {
    "execution": {
     "iopub.execute_input": "2020-08-30T17:01:44.573675Z",
     "iopub.status.busy": "2020-08-30T17:01:44.572858Z",
     "iopub.status.idle": "2020-08-30T17:01:44.632079Z",
     "shell.execute_reply": "2020-08-30T17:01:44.631431Z"
    },
    "papermill": {
     "duration": 0.116666,
     "end_time": "2020-08-30T17:01:44.632230",
     "exception": false,
     "start_time": "2020-08-30T17:01:44.515564",
     "status": "completed"
    },
    "tags": []
   },
   "outputs": [
    {
     "data": {
      "text/html": [
       "<div>\n",
       "<style scoped>\n",
       "    .dataframe tbody tr th:only-of-type {\n",
       "        vertical-align: middle;\n",
       "    }\n",
       "\n",
       "    .dataframe tbody tr th {\n",
       "        vertical-align: top;\n",
       "    }\n",
       "\n",
       "    .dataframe thead th {\n",
       "        text-align: right;\n",
       "    }\n",
       "</style>\n",
       "<table border=\"1\" class=\"dataframe\">\n",
       "  <thead>\n",
       "    <tr style=\"text-align: right;\">\n",
       "      <th></th>\n",
       "      <th>year</th>\n",
       "      <th>month</th>\n",
       "      <th>region</th>\n",
       "      <th>district</th>\n",
       "      <th>site_code</th>\n",
       "      <th>stock_distributed</th>\n",
       "      <th>product_code_1</th>\n",
       "      <th>product_code_2</th>\n",
       "      <th>product_code_3</th>\n",
       "      <th>product_code_4</th>\n",
       "      <th>product_code_5</th>\n",
       "      <th>product_code_6</th>\n",
       "      <th>product_code_7</th>\n",
       "      <th>product_code_8</th>\n",
       "      <th>product_code_9</th>\n",
       "      <th>product_code_10</th>\n",
       "    </tr>\n",
       "  </thead>\n",
       "  <tbody>\n",
       "    <tr>\n",
       "      <th>year</th>\n",
       "      <td>1.000000</td>\n",
       "      <td>-0.191016</td>\n",
       "      <td>-0.028990</td>\n",
       "      <td>-0.016426</td>\n",
       "      <td>-0.015245</td>\n",
       "      <td>0.009055</td>\n",
       "      <td>0.156266</td>\n",
       "      <td>-0.007252</td>\n",
       "      <td>-0.011982</td>\n",
       "      <td>-0.013596</td>\n",
       "      <td>-0.027153</td>\n",
       "      <td>0.006429</td>\n",
       "      <td>0.044771</td>\n",
       "      <td>-0.018397</td>\n",
       "      <td>-0.003149</td>\n",
       "      <td>-0.017107</td>\n",
       "    </tr>\n",
       "    <tr>\n",
       "      <th>month</th>\n",
       "      <td>-0.191016</td>\n",
       "      <td>1.000000</td>\n",
       "      <td>-0.001431</td>\n",
       "      <td>0.001167</td>\n",
       "      <td>0.002958</td>\n",
       "      <td>0.004145</td>\n",
       "      <td>-0.009155</td>\n",
       "      <td>0.002897</td>\n",
       "      <td>0.000583</td>\n",
       "      <td>-0.002013</td>\n",
       "      <td>0.000126</td>\n",
       "      <td>0.000730</td>\n",
       "      <td>0.000397</td>\n",
       "      <td>-0.002231</td>\n",
       "      <td>0.013983</td>\n",
       "      <td>-0.002652</td>\n",
       "    </tr>\n",
       "    <tr>\n",
       "      <th>region</th>\n",
       "      <td>-0.028990</td>\n",
       "      <td>-0.001431</td>\n",
       "      <td>1.000000</td>\n",
       "      <td>-0.009061</td>\n",
       "      <td>0.520614</td>\n",
       "      <td>-0.030530</td>\n",
       "      <td>-0.037977</td>\n",
       "      <td>0.005724</td>\n",
       "      <td>-0.013614</td>\n",
       "      <td>0.022181</td>\n",
       "      <td>-0.018690</td>\n",
       "      <td>0.015869</td>\n",
       "      <td>-0.004848</td>\n",
       "      <td>0.049511</td>\n",
       "      <td>-0.007973</td>\n",
       "      <td>-0.016273</td>\n",
       "    </tr>\n",
       "    <tr>\n",
       "      <th>district</th>\n",
       "      <td>-0.016426</td>\n",
       "      <td>0.001167</td>\n",
       "      <td>-0.009061</td>\n",
       "      <td>1.000000</td>\n",
       "      <td>0.094775</td>\n",
       "      <td>-0.025625</td>\n",
       "      <td>-0.004275</td>\n",
       "      <td>-0.020570</td>\n",
       "      <td>0.004507</td>\n",
       "      <td>-0.029640</td>\n",
       "      <td>-0.018258</td>\n",
       "      <td>-0.001128</td>\n",
       "      <td>0.007058</td>\n",
       "      <td>0.048489</td>\n",
       "      <td>0.028481</td>\n",
       "      <td>-0.010105</td>\n",
       "    </tr>\n",
       "    <tr>\n",
       "      <th>site_code</th>\n",
       "      <td>-0.015245</td>\n",
       "      <td>0.002958</td>\n",
       "      <td>0.520614</td>\n",
       "      <td>0.094775</td>\n",
       "      <td>1.000000</td>\n",
       "      <td>-0.062439</td>\n",
       "      <td>-0.033595</td>\n",
       "      <td>0.014692</td>\n",
       "      <td>-0.011797</td>\n",
       "      <td>0.035514</td>\n",
       "      <td>-0.013000</td>\n",
       "      <td>0.011098</td>\n",
       "      <td>0.012047</td>\n",
       "      <td>0.019765</td>\n",
       "      <td>-0.021152</td>\n",
       "      <td>-0.024723</td>\n",
       "    </tr>\n",
       "    <tr>\n",
       "      <th>stock_distributed</th>\n",
       "      <td>0.009055</td>\n",
       "      <td>0.004145</td>\n",
       "      <td>-0.030530</td>\n",
       "      <td>-0.025625</td>\n",
       "      <td>-0.062439</td>\n",
       "      <td>1.000000</td>\n",
       "      <td>-0.037728</td>\n",
       "      <td>0.158383</td>\n",
       "      <td>-0.088686</td>\n",
       "      <td>0.141248</td>\n",
       "      <td>0.052328</td>\n",
       "      <td>-0.076418</td>\n",
       "      <td>-0.071193</td>\n",
       "      <td>-0.090831</td>\n",
       "      <td>-0.075334</td>\n",
       "      <td>0.027305</td>\n",
       "    </tr>\n",
       "    <tr>\n",
       "      <th>product_code_1</th>\n",
       "      <td>0.156266</td>\n",
       "      <td>-0.009155</td>\n",
       "      <td>-0.037977</td>\n",
       "      <td>-0.004275</td>\n",
       "      <td>-0.033595</td>\n",
       "      <td>-0.037728</td>\n",
       "      <td>1.000000</td>\n",
       "      <td>-0.049957</td>\n",
       "      <td>-0.045124</td>\n",
       "      <td>-0.050540</td>\n",
       "      <td>-0.046570</td>\n",
       "      <td>-0.045441</td>\n",
       "      <td>-0.043440</td>\n",
       "      <td>-0.031619</td>\n",
       "      <td>-0.025287</td>\n",
       "      <td>-0.029015</td>\n",
       "    </tr>\n",
       "    <tr>\n",
       "      <th>product_code_2</th>\n",
       "      <td>-0.007252</td>\n",
       "      <td>0.002897</td>\n",
       "      <td>0.005724</td>\n",
       "      <td>-0.020570</td>\n",
       "      <td>0.014692</td>\n",
       "      <td>0.158383</td>\n",
       "      <td>-0.049957</td>\n",
       "      <td>1.000000</td>\n",
       "      <td>-0.155510</td>\n",
       "      <td>-0.174176</td>\n",
       "      <td>-0.160493</td>\n",
       "      <td>-0.156601</td>\n",
       "      <td>-0.149707</td>\n",
       "      <td>-0.108967</td>\n",
       "      <td>-0.087146</td>\n",
       "      <td>-0.099994</td>\n",
       "    </tr>\n",
       "    <tr>\n",
       "      <th>product_code_3</th>\n",
       "      <td>-0.011982</td>\n",
       "      <td>0.000583</td>\n",
       "      <td>-0.013614</td>\n",
       "      <td>0.004507</td>\n",
       "      <td>-0.011797</td>\n",
       "      <td>-0.088686</td>\n",
       "      <td>-0.045124</td>\n",
       "      <td>-0.155510</td>\n",
       "      <td>1.000000</td>\n",
       "      <td>-0.157327</td>\n",
       "      <td>-0.144968</td>\n",
       "      <td>-0.141452</td>\n",
       "      <td>-0.135225</td>\n",
       "      <td>-0.098426</td>\n",
       "      <td>-0.078716</td>\n",
       "      <td>-0.090321</td>\n",
       "    </tr>\n",
       "    <tr>\n",
       "      <th>product_code_4</th>\n",
       "      <td>-0.013596</td>\n",
       "      <td>-0.002013</td>\n",
       "      <td>0.022181</td>\n",
       "      <td>-0.029640</td>\n",
       "      <td>0.035514</td>\n",
       "      <td>0.141248</td>\n",
       "      <td>-0.050540</td>\n",
       "      <td>-0.174176</td>\n",
       "      <td>-0.157327</td>\n",
       "      <td>1.000000</td>\n",
       "      <td>-0.162368</td>\n",
       "      <td>-0.158431</td>\n",
       "      <td>-0.151456</td>\n",
       "      <td>-0.110240</td>\n",
       "      <td>-0.088164</td>\n",
       "      <td>-0.101162</td>\n",
       "    </tr>\n",
       "    <tr>\n",
       "      <th>product_code_5</th>\n",
       "      <td>-0.027153</td>\n",
       "      <td>0.000126</td>\n",
       "      <td>-0.018690</td>\n",
       "      <td>-0.018258</td>\n",
       "      <td>-0.013000</td>\n",
       "      <td>0.052328</td>\n",
       "      <td>-0.046570</td>\n",
       "      <td>-0.160493</td>\n",
       "      <td>-0.144968</td>\n",
       "      <td>-0.162368</td>\n",
       "      <td>1.000000</td>\n",
       "      <td>-0.145986</td>\n",
       "      <td>-0.139559</td>\n",
       "      <td>-0.101580</td>\n",
       "      <td>-0.081239</td>\n",
       "      <td>-0.093215</td>\n",
       "    </tr>\n",
       "    <tr>\n",
       "      <th>product_code_6</th>\n",
       "      <td>0.006429</td>\n",
       "      <td>0.000730</td>\n",
       "      <td>0.015869</td>\n",
       "      <td>-0.001128</td>\n",
       "      <td>0.011098</td>\n",
       "      <td>-0.076418</td>\n",
       "      <td>-0.045441</td>\n",
       "      <td>-0.156601</td>\n",
       "      <td>-0.141452</td>\n",
       "      <td>-0.158431</td>\n",
       "      <td>-0.145986</td>\n",
       "      <td>1.000000</td>\n",
       "      <td>-0.136174</td>\n",
       "      <td>-0.099117</td>\n",
       "      <td>-0.079269</td>\n",
       "      <td>-0.090955</td>\n",
       "    </tr>\n",
       "    <tr>\n",
       "      <th>product_code_7</th>\n",
       "      <td>0.044771</td>\n",
       "      <td>0.000397</td>\n",
       "      <td>-0.004848</td>\n",
       "      <td>0.007058</td>\n",
       "      <td>0.012047</td>\n",
       "      <td>-0.071193</td>\n",
       "      <td>-0.043440</td>\n",
       "      <td>-0.149707</td>\n",
       "      <td>-0.135225</td>\n",
       "      <td>-0.151456</td>\n",
       "      <td>-0.139559</td>\n",
       "      <td>-0.136174</td>\n",
       "      <td>1.000000</td>\n",
       "      <td>-0.094753</td>\n",
       "      <td>-0.075779</td>\n",
       "      <td>-0.086951</td>\n",
       "    </tr>\n",
       "    <tr>\n",
       "      <th>product_code_8</th>\n",
       "      <td>-0.018397</td>\n",
       "      <td>-0.002231</td>\n",
       "      <td>0.049511</td>\n",
       "      <td>0.048489</td>\n",
       "      <td>0.019765</td>\n",
       "      <td>-0.090831</td>\n",
       "      <td>-0.031619</td>\n",
       "      <td>-0.108967</td>\n",
       "      <td>-0.098426</td>\n",
       "      <td>-0.110240</td>\n",
       "      <td>-0.101580</td>\n",
       "      <td>-0.099117</td>\n",
       "      <td>-0.094753</td>\n",
       "      <td>1.000000</td>\n",
       "      <td>-0.055157</td>\n",
       "      <td>-0.063288</td>\n",
       "    </tr>\n",
       "    <tr>\n",
       "      <th>product_code_9</th>\n",
       "      <td>-0.003149</td>\n",
       "      <td>0.013983</td>\n",
       "      <td>-0.007973</td>\n",
       "      <td>0.028481</td>\n",
       "      <td>-0.021152</td>\n",
       "      <td>-0.075334</td>\n",
       "      <td>-0.025287</td>\n",
       "      <td>-0.087146</td>\n",
       "      <td>-0.078716</td>\n",
       "      <td>-0.088164</td>\n",
       "      <td>-0.081239</td>\n",
       "      <td>-0.079269</td>\n",
       "      <td>-0.075779</td>\n",
       "      <td>-0.055157</td>\n",
       "      <td>1.000000</td>\n",
       "      <td>-0.050615</td>\n",
       "    </tr>\n",
       "    <tr>\n",
       "      <th>product_code_10</th>\n",
       "      <td>-0.017107</td>\n",
       "      <td>-0.002652</td>\n",
       "      <td>-0.016273</td>\n",
       "      <td>-0.010105</td>\n",
       "      <td>-0.024723</td>\n",
       "      <td>0.027305</td>\n",
       "      <td>-0.029015</td>\n",
       "      <td>-0.099994</td>\n",
       "      <td>-0.090321</td>\n",
       "      <td>-0.101162</td>\n",
       "      <td>-0.093215</td>\n",
       "      <td>-0.090955</td>\n",
       "      <td>-0.086951</td>\n",
       "      <td>-0.063288</td>\n",
       "      <td>-0.050615</td>\n",
       "      <td>1.000000</td>\n",
       "    </tr>\n",
       "  </tbody>\n",
       "</table>\n",
       "</div>"
      ],
      "text/plain": [
       "                       year     month    region  district  site_code  \\\n",
       "year               1.000000 -0.191016 -0.028990 -0.016426  -0.015245   \n",
       "month             -0.191016  1.000000 -0.001431  0.001167   0.002958   \n",
       "region            -0.028990 -0.001431  1.000000 -0.009061   0.520614   \n",
       "district          -0.016426  0.001167 -0.009061  1.000000   0.094775   \n",
       "site_code         -0.015245  0.002958  0.520614  0.094775   1.000000   \n",
       "stock_distributed  0.009055  0.004145 -0.030530 -0.025625  -0.062439   \n",
       "product_code_1     0.156266 -0.009155 -0.037977 -0.004275  -0.033595   \n",
       "product_code_2    -0.007252  0.002897  0.005724 -0.020570   0.014692   \n",
       "product_code_3    -0.011982  0.000583 -0.013614  0.004507  -0.011797   \n",
       "product_code_4    -0.013596 -0.002013  0.022181 -0.029640   0.035514   \n",
       "product_code_5    -0.027153  0.000126 -0.018690 -0.018258  -0.013000   \n",
       "product_code_6     0.006429  0.000730  0.015869 -0.001128   0.011098   \n",
       "product_code_7     0.044771  0.000397 -0.004848  0.007058   0.012047   \n",
       "product_code_8    -0.018397 -0.002231  0.049511  0.048489   0.019765   \n",
       "product_code_9    -0.003149  0.013983 -0.007973  0.028481  -0.021152   \n",
       "product_code_10   -0.017107 -0.002652 -0.016273 -0.010105  -0.024723   \n",
       "\n",
       "                   stock_distributed  product_code_1  product_code_2  \\\n",
       "year                        0.009055        0.156266       -0.007252   \n",
       "month                       0.004145       -0.009155        0.002897   \n",
       "region                     -0.030530       -0.037977        0.005724   \n",
       "district                   -0.025625       -0.004275       -0.020570   \n",
       "site_code                  -0.062439       -0.033595        0.014692   \n",
       "stock_distributed           1.000000       -0.037728        0.158383   \n",
       "product_code_1             -0.037728        1.000000       -0.049957   \n",
       "product_code_2              0.158383       -0.049957        1.000000   \n",
       "product_code_3             -0.088686       -0.045124       -0.155510   \n",
       "product_code_4              0.141248       -0.050540       -0.174176   \n",
       "product_code_5              0.052328       -0.046570       -0.160493   \n",
       "product_code_6             -0.076418       -0.045441       -0.156601   \n",
       "product_code_7             -0.071193       -0.043440       -0.149707   \n",
       "product_code_8             -0.090831       -0.031619       -0.108967   \n",
       "product_code_9             -0.075334       -0.025287       -0.087146   \n",
       "product_code_10             0.027305       -0.029015       -0.099994   \n",
       "\n",
       "                   product_code_3  product_code_4  product_code_5  \\\n",
       "year                    -0.011982       -0.013596       -0.027153   \n",
       "month                    0.000583       -0.002013        0.000126   \n",
       "region                  -0.013614        0.022181       -0.018690   \n",
       "district                 0.004507       -0.029640       -0.018258   \n",
       "site_code               -0.011797        0.035514       -0.013000   \n",
       "stock_distributed       -0.088686        0.141248        0.052328   \n",
       "product_code_1          -0.045124       -0.050540       -0.046570   \n",
       "product_code_2          -0.155510       -0.174176       -0.160493   \n",
       "product_code_3           1.000000       -0.157327       -0.144968   \n",
       "product_code_4          -0.157327        1.000000       -0.162368   \n",
       "product_code_5          -0.144968       -0.162368        1.000000   \n",
       "product_code_6          -0.141452       -0.158431       -0.145986   \n",
       "product_code_7          -0.135225       -0.151456       -0.139559   \n",
       "product_code_8          -0.098426       -0.110240       -0.101580   \n",
       "product_code_9          -0.078716       -0.088164       -0.081239   \n",
       "product_code_10         -0.090321       -0.101162       -0.093215   \n",
       "\n",
       "                   product_code_6  product_code_7  product_code_8  \\\n",
       "year                     0.006429        0.044771       -0.018397   \n",
       "month                    0.000730        0.000397       -0.002231   \n",
       "region                   0.015869       -0.004848        0.049511   \n",
       "district                -0.001128        0.007058        0.048489   \n",
       "site_code                0.011098        0.012047        0.019765   \n",
       "stock_distributed       -0.076418       -0.071193       -0.090831   \n",
       "product_code_1          -0.045441       -0.043440       -0.031619   \n",
       "product_code_2          -0.156601       -0.149707       -0.108967   \n",
       "product_code_3          -0.141452       -0.135225       -0.098426   \n",
       "product_code_4          -0.158431       -0.151456       -0.110240   \n",
       "product_code_5          -0.145986       -0.139559       -0.101580   \n",
       "product_code_6           1.000000       -0.136174       -0.099117   \n",
       "product_code_7          -0.136174        1.000000       -0.094753   \n",
       "product_code_8          -0.099117       -0.094753        1.000000   \n",
       "product_code_9          -0.079269       -0.075779       -0.055157   \n",
       "product_code_10         -0.090955       -0.086951       -0.063288   \n",
       "\n",
       "                   product_code_9  product_code_10  \n",
       "year                    -0.003149        -0.017107  \n",
       "month                    0.013983        -0.002652  \n",
       "region                  -0.007973        -0.016273  \n",
       "district                 0.028481        -0.010105  \n",
       "site_code               -0.021152        -0.024723  \n",
       "stock_distributed       -0.075334         0.027305  \n",
       "product_code_1          -0.025287        -0.029015  \n",
       "product_code_2          -0.087146        -0.099994  \n",
       "product_code_3          -0.078716        -0.090321  \n",
       "product_code_4          -0.088164        -0.101162  \n",
       "product_code_5          -0.081239        -0.093215  \n",
       "product_code_6          -0.079269        -0.090955  \n",
       "product_code_7          -0.075779        -0.086951  \n",
       "product_code_8          -0.055157        -0.063288  \n",
       "product_code_9           1.000000        -0.050615  \n",
       "product_code_10         -0.050615         1.000000  "
      ]
     },
     "execution_count": 30,
     "metadata": {},
     "output_type": "execute_result"
    }
   ],
   "source": [
    "train.corr()"
   ]
  },
  {
   "cell_type": "code",
   "execution_count": 31,
   "metadata": {
    "execution": {
     "iopub.execute_input": "2020-08-30T17:01:44.758502Z",
     "iopub.status.busy": "2020-08-30T17:01:44.757605Z",
     "iopub.status.idle": "2020-08-30T17:01:44.763938Z",
     "shell.execute_reply": "2020-08-30T17:01:44.763252Z"
    },
    "papermill": {
     "duration": 0.070318,
     "end_time": "2020-08-30T17:01:44.764089",
     "exception": false,
     "start_time": "2020-08-30T17:01:44.693771",
     "status": "completed"
    },
    "tags": []
   },
   "outputs": [],
   "source": [
    "#a further dropping of variables that are not useful to the model due to multicollinearity effect\n",
    "train.drop(columns = ['month', 'district', 'region', 'product_code_6', 'product_code_3', 'product_code_7', 'product_code_9'], axis = 1, inplace = True)\n",
    "test.drop(columns = ['month', 'district', 'region', 'product_code_6', 'product_code_3', 'product_code_7', 'product_code_9'], axis = 1, inplace = True)"
   ]
  },
  {
   "cell_type": "code",
   "execution_count": 32,
   "metadata": {
    "execution": {
     "iopub.execute_input": "2020-08-30T17:01:44.880913Z",
     "iopub.status.busy": "2020-08-30T17:01:44.880151Z",
     "iopub.status.idle": "2020-08-30T17:01:45.530240Z",
     "shell.execute_reply": "2020-08-30T17:01:45.529459Z"
    },
    "papermill": {
     "duration": 0.711948,
     "end_time": "2020-08-30T17:01:45.530381",
     "exception": false,
     "start_time": "2020-08-30T17:01:44.818433",
     "status": "completed"
    },
    "tags": []
   },
   "outputs": [
    {
     "data": {
      "text/plain": [
       "(9.5, -0.5)"
      ]
     },
     "execution_count": 32,
     "metadata": {},
     "output_type": "execute_result"
    },
    {
     "data": {
      "image/png": "[encoded data removed]",
      "text/plain": [
       "<Figure size 792x504 with 2 Axes>"
      ]
     },
     "metadata": {
      "needs_background": "light"
     },
     "output_type": "display_data"
    }
   ],
   "source": [
    "corr = train.corr()\n",
    "fig, ax = plt.subplots()\n",
    "fig.set_size_inches(11, 7)\n",
    "sns.heatmap(corr, xticklabels=corr.columns, yticklabels=corr.columns,annot = True, ax = ax)\n",
    "bottom, top = ax.get_ylim()\n",
    "ax.set_ylim(bottom + 0.5, top - 0.5)"
   ]
  },
  {
   "cell_type": "code",
   "execution_count": 33,
   "metadata": {
    "execution": {
     "iopub.execute_input": "2020-08-30T17:01:45.648958Z",
     "iopub.status.busy": "2020-08-30T17:01:45.648166Z",
     "iopub.status.idle": "2020-08-30T17:01:45.653427Z",
     "shell.execute_reply": "2020-08-30T17:01:45.652635Z"
    },
    "papermill": {
     "duration": 0.06807,
     "end_time": "2020-08-30T17:01:45.653577",
     "exception": false,
     "start_time": "2020-08-30T17:01:45.585507",
     "status": "completed"
    },
    "tags": []
   },
   "outputs": [],
   "source": [
    "#this code takes care of invalid zeros in cases where stock_distributed for a contraceptive product at a service delivery site is reported in a given month as '0'\n",
    "train['stock_distributed'] = np.where(train['stock_distributed'] == 0, train['stock_distributed'].median(), \n",
    "                                      train['stock_distributed'])"
   ]
  },
  {
   "cell_type": "code",
   "execution_count": 34,
   "metadata": {
    "execution": {
     "iopub.execute_input": "2020-08-30T17:01:45.777748Z",
     "iopub.status.busy": "2020-08-30T17:01:45.776293Z",
     "iopub.status.idle": "2020-08-30T17:01:45.788661Z",
     "shell.execute_reply": "2020-08-30T17:01:45.787813Z"
    },
    "papermill": {
     "duration": 0.079548,
     "end_time": "2020-08-30T17:01:45.788806",
     "exception": false,
     "start_time": "2020-08-30T17:01:45.709258",
     "status": "completed"
    },
    "tags": []
   },
   "outputs": [],
   "source": [
    "X=train.drop(columns={'stock_distributed'})\n",
    "y=train.loc[:,['stock_distributed']]\n",
    "del test['stock_distributed']\n",
    "\n",
    "\n",
    "train_X, valid_X, train_y, valid_y = train_test_split(X, y, test_size=0.4, random_state=100)"
   ]
  },
  {
   "cell_type": "code",
   "execution_count": 35,
   "metadata": {
    "execution": {
     "iopub.execute_input": "2020-08-30T17:01:45.908862Z",
     "iopub.status.busy": "2020-08-30T17:01:45.908105Z",
     "iopub.status.idle": "2020-08-30T17:01:45.911995Z",
     "shell.execute_reply": "2020-08-30T17:01:45.911335Z"
    },
    "papermill": {
     "duration": 0.065888,
     "end_time": "2020-08-30T17:01:45.912141",
     "exception": false,
     "start_time": "2020-08-30T17:01:45.846253",
     "status": "completed"
    },
    "tags": []
   },
   "outputs": [],
   "source": [
    "#Define the model \n",
    "my_model = XGBRegressor()"
   ]
  },
  {
   "cell_type": "code",
   "execution_count": 36,
   "metadata": {
    "execution": {
     "iopub.execute_input": "2020-08-30T17:01:46.032291Z",
     "iopub.status.busy": "2020-08-30T17:01:46.031474Z",
     "iopub.status.idle": "2020-08-30T17:01:46.034789Z",
     "shell.execute_reply": "2020-08-30T17:01:46.034137Z"
    },
    "papermill": {
     "duration": 0.06697,
     "end_time": "2020-08-30T17:01:46.034966",
     "exception": false,
     "start_time": "2020-08-30T17:01:45.967996",
     "status": "completed"
    },
    "tags": []
   },
   "outputs": [],
   "source": [
    "##Hyper Parameter Optimization \n",
    "n_estimators = [100, 500, 900, 1100, 1500] \n",
    "max_depth = [2, 3, 5, 10, 15] \n",
    "booster = ['gbtree', 'gblinear']\n",
    "learning_rate = [0.05, 0.1, 0.15, 0.20] \n",
    "min_child_weight = [1, 2, 3, 4]\n",
    "base_score = [0.25, 0.5, 0.75, 1]"
   ]
  },
  {
   "cell_type": "code",
   "execution_count": 37,
   "metadata": {
    "execution": {
     "iopub.execute_input": "2020-08-30T17:01:46.154437Z",
     "iopub.status.busy": "2020-08-30T17:01:46.153394Z",
     "iopub.status.idle": "2020-08-30T17:01:46.156900Z",
     "shell.execute_reply": "2020-08-30T17:01:46.156138Z"
    },
    "papermill": {
     "duration": 0.065539,
     "end_time": "2020-08-30T17:01:46.157042",
     "exception": false,
     "start_time": "2020-08-30T17:01:46.091503",
     "status": "completed"
    },
    "tags": []
   },
   "outputs": [],
   "source": [
    "#Define the grid of hyperparameters to search \n",
    "hyperparameter_grid = { 'n_estimators' : n_estimators, 'max_depth': max_depth,\n",
    "'learning_rate': learning_rate, 'min_child_weight': min_child_weight, 'booster': booster, 'base_score': base_score }"
   ]
  },
  {
   "cell_type": "code",
   "execution_count": 38,
   "metadata": {
    "execution": {
     "iopub.execute_input": "2020-08-30T17:01:46.282423Z",
     "iopub.status.busy": "2020-08-30T17:01:46.281169Z",
     "iopub.status.idle": "2020-08-30T17:01:46.286425Z",
     "shell.execute_reply": "2020-08-30T17:01:46.285747Z"
    },
    "papermill": {
     "duration": 0.069113,
     "end_time": "2020-08-30T17:01:46.286574",
     "exception": false,
     "start_time": "2020-08-30T17:01:46.217461",
     "status": "completed"
    },
    "tags": []
   },
   "outputs": [],
   "source": [
    "#Set up the random search with 4-fold cross validation \n",
    "random_cv = RandomizedSearchCV(estimator=my_model, param_distributions = hyperparameter_grid, cv = 5, n_iter = 50, \n",
    "                               scoring = 'neg_mean_absolute_error', n_jobs = 4, verbose = 5, return_train_score = True,random_state = 42)"
   ]
  },
  {
   "cell_type": "code",
   "execution_count": 39,
   "metadata": {
    "execution": {
     "iopub.execute_input": "2020-08-30T17:01:46.406697Z",
     "iopub.status.busy": "2020-08-30T17:01:46.405978Z",
     "iopub.status.idle": "2020-08-30T17:14:35.775157Z",
     "shell.execute_reply": "2020-08-30T17:14:35.774326Z"
    },
    "papermill": {
     "duration": 769.432049,
     "end_time": "2020-08-30T17:14:35.775317",
     "exception": false,
     "start_time": "2020-08-30T17:01:46.343268",
     "status": "completed"
    },
    "tags": []
   },
   "outputs": [
    {
     "name": "stdout",
     "output_type": "stream",
     "text": [
      "Fitting 5 folds for each of 50 candidates, totalling 250 fits\n"
     ]
    },
    {
     "name": "stderr",
     "output_type": "stream",
     "text": [
      "[Parallel(n_jobs=4)]: Using backend LokyBackend with 4 concurrent workers.\n",
      "[Parallel(n_jobs=4)]: Done  10 tasks      | elapsed:   28.5s\n",
      "/opt/conda/lib/python3.7/site-packages/joblib/externals/loky/process_executor.py:706: UserWarning: A worker stopped while some jobs were given to the executor. This can be caused by a too short worker timeout or by a memory leak.\n",
      "  \"timeout or by a memory leak.\", UserWarning\n",
      "[Parallel(n_jobs=4)]: Done  64 tasks      | elapsed:  5.0min\n",
      "[Parallel(n_jobs=4)]: Done 154 tasks      | elapsed:  8.5min\n",
      "[Parallel(n_jobs=4)]: Done 250 out of 250 | elapsed: 12.7min finished\n"
     ]
    },
    {
     "data": {
      "text/plain": [
       "RandomizedSearchCV(cv=5,\n",
       "                   estimator=XGBRegressor(base_score=None, booster=None,\n",
       "                                          colsample_bylevel=None,\n",
       "                                          colsample_bynode=None,\n",
       "                                          colsample_bytree=None, gamma=None,\n",
       "                                          gpu_id=None, importance_type='gain',\n",
       "                                          interaction_constraints=None,\n",
       "                                          learning_rate=None,\n",
       "                                          max_delta_step=None, max_depth=None,\n",
       "                                          min_child_weight=None, missing=nan,\n",
       "                                          monotone_constraints=None,\n",
       "                                          n_estimators=100, n...\n",
       "                                          validate_parameters=None,\n",
       "                                          verbosity=None),\n",
       "                   n_iter=50, n_jobs=4,\n",
       "                   param_distributions={'base_score': [0.25, 0.5, 0.75, 1],\n",
       "                                        'booster': ['gbtree', 'gblinear'],\n",
       "                                        'learning_rate': [0.05, 0.1, 0.15, 0.2],\n",
       "                                        'max_depth': [2, 3, 5, 10, 15],\n",
       "                                        'min_child_weight': [1, 2, 3, 4],\n",
       "                                        'n_estimators': [100, 500, 900, 1100,\n",
       "                                                         1500]},\n",
       "                   random_state=42, return_train_score=True,\n",
       "                   scoring='neg_mean_absolute_error', verbose=5)"
      ]
     },
     "execution_count": 39,
     "metadata": {},
     "output_type": "execute_result"
    }
   ],
   "source": [
    "#fit the model \n",
    "random_cv.fit(train_X, train_y)"
   ]
  },
  {
   "cell_type": "code",
   "execution_count": 40,
   "metadata": {
    "execution": {
     "iopub.execute_input": "2020-08-30T17:14:35.902352Z",
     "iopub.status.busy": "2020-08-30T17:14:35.901610Z",
     "iopub.status.idle": "2020-08-30T17:14:35.911214Z",
     "shell.execute_reply": "2020-08-30T17:14:35.910435Z"
    },
    "papermill": {
     "duration": 0.075847,
     "end_time": "2020-08-30T17:14:35.911355",
     "exception": false,
     "start_time": "2020-08-30T17:14:35.835508",
     "status": "completed"
    },
    "tags": []
   },
   "outputs": [
    {
     "data": {
      "text/plain": [
       "XGBRegressor(base_score=1, booster='gbtree', colsample_bylevel=1,\n",
       "             colsample_bynode=1, colsample_bytree=1, gamma=0, gpu_id=-1,\n",
       "             importance_type='gain', interaction_constraints='',\n",
       "             learning_rate=0.1, max_delta_step=0, max_depth=15,\n",
       "             min_child_weight=1, missing=nan, monotone_constraints='()',\n",
       "             n_estimators=900, n_jobs=0, num_parallel_tree=1, random_state=0,\n",
       "             reg_alpha=0, reg_lambda=1, scale_pos_weight=1, subsample=1,\n",
       "             tree_method='exact', validate_parameters=1, verbosity=None)"
      ]
     },
     "execution_count": 40,
     "metadata": {},
     "output_type": "execute_result"
    }
   ],
   "source": [
    "#The optimal random search paramaters\n",
    "random_cv.best_estimator_"
   ]
  },
  {
   "cell_type": "code",
   "execution_count": 41,
   "metadata": {
    "execution": {
     "iopub.execute_input": "2020-08-30T17:14:36.045017Z",
     "iopub.status.busy": "2020-08-30T17:14:36.043967Z",
     "iopub.status.idle": "2020-08-30T17:14:36.048576Z",
     "shell.execute_reply": "2020-08-30T17:14:36.047670Z"
    },
    "papermill": {
     "duration": 0.076536,
     "end_time": "2020-08-30T17:14:36.048734",
     "exception": false,
     "start_time": "2020-08-30T17:14:35.972198",
     "status": "completed"
    },
    "tags": []
   },
   "outputs": [],
   "source": [
    "my_model = XGBRegressor(base_score=1, booster='gbtree', colsample_bylevel=1,\n",
    "             colsample_bynode=1, colsample_bytree=1, gamma=0, gpu_id=-1,\n",
    "             importance_type='gain', interaction_constraints='',\n",
    "             learning_rate=0.1, max_delta_step=0, max_depth=15,\n",
    "             min_child_weight=1, missing=None, monotone_constraints='()',\n",
    "             n_estimators=900, n_jobs=0, num_parallel_tree=1, random_state=0,\n",
    "             reg_alpha=0, reg_lambda=1, scale_pos_weight=1, subsample=1,\n",
    "             tree_method='exact', validate_parameters=1, verbosity=None)"
   ]
  },
  {
   "cell_type": "code",
   "execution_count": 42,
   "metadata": {
    "execution": {
     "iopub.execute_input": "2020-08-30T17:14:36.186329Z",
     "iopub.status.busy": "2020-08-30T17:14:36.185298Z",
     "iopub.status.idle": "2020-08-30T17:14:48.769558Z",
     "shell.execute_reply": "2020-08-30T17:14:48.767358Z"
    },
    "papermill": {
     "duration": 12.654903,
     "end_time": "2020-08-30T17:14:48.770245",
     "exception": false,
     "start_time": "2020-08-30T17:14:36.115342",
     "status": "completed"
    },
    "tags": []
   },
   "outputs": [
    {
     "data": {
      "text/plain": [
       "XGBRegressor(base_score=1, booster='gbtree', colsample_bylevel=1,\n",
       "             colsample_bynode=1, colsample_bytree=1, gamma=0, gpu_id=-1,\n",
       "             importance_type='gain', interaction_constraints='',\n",
       "             learning_rate=0.1, max_delta_step=0, max_depth=15,\n",
       "             min_child_weight=1, missing=None, monotone_constraints='()',\n",
       "             n_estimators=900, n_jobs=0, num_parallel_tree=1, random_state=0,\n",
       "             reg_alpha=0, reg_lambda=1, scale_pos_weight=1, subsample=1,\n",
       "             tree_method='exact', validate_parameters=1, verbosity=None)"
      ]
     },
     "execution_count": 42,
     "metadata": {},
     "output_type": "execute_result"
    }
   ],
   "source": [
    "my_model.fit(train_X, train_y) "
   ]
  },
  {
   "cell_type": "code",
   "execution_count": 43,
   "metadata": {
    "execution": {
     "iopub.execute_input": "2020-08-30T17:14:49.033125Z",
     "iopub.status.busy": "2020-08-30T17:14:49.032152Z",
     "iopub.status.idle": "2020-08-30T17:14:49.790372Z",
     "shell.execute_reply": "2020-08-30T17:14:49.791130Z"
    },
    "papermill": {
     "duration": 0.828987,
     "end_time": "2020-08-30T17:14:49.791345",
     "exception": false,
     "start_time": "2020-08-30T17:14:48.962358",
     "status": "completed"
    },
    "tags": []
   },
   "outputs": [],
   "source": [
    "#prediction on the validation set\n",
    "valid_pred = my_model.predict(valid_X)"
   ]
  },
  {
   "cell_type": "code",
   "execution_count": 44,
   "metadata": {
    "execution": {
     "iopub.execute_input": "2020-08-30T17:14:50.033468Z",
     "iopub.status.busy": "2020-08-30T17:14:50.032284Z",
     "iopub.status.idle": "2020-08-30T17:14:50.038954Z",
     "shell.execute_reply": "2020-08-30T17:14:50.038324Z"
    },
    "papermill": {
     "duration": 0.107854,
     "end_time": "2020-08-30T17:14:50.039115",
     "exception": false,
     "start_time": "2020-08-30T17:14:49.931261",
     "status": "completed"
    },
    "tags": []
   },
   "outputs": [
    {
     "name": "stdout",
     "output_type": "stream",
     "text": [
      "33.38380018154267\n"
     ]
    }
   ],
   "source": [
    "#RMSE score from fitting the model to the validation set\n",
    "rmse = sqrt(mean_squared_error(valid_y, valid_pred))\n",
    "\n",
    "print(rmse)"
   ]
  },
  {
   "cell_type": "code",
   "execution_count": 45,
   "metadata": {
    "execution": {
     "iopub.execute_input": "2020-08-30T17:14:50.201533Z",
     "iopub.status.busy": "2020-08-30T17:14:50.200276Z",
     "iopub.status.idle": "2020-08-30T17:14:50.327293Z",
     "shell.execute_reply": "2020-08-30T17:14:50.328031Z"
    },
    "papermill": {
     "duration": 0.226295,
     "end_time": "2020-08-30T17:14:50.328251",
     "exception": false,
     "start_time": "2020-08-30T17:14:50.101956",
     "status": "completed"
    },
    "tags": []
   },
   "outputs": [],
   "source": [
    "#Predict stock_distributed from OCT 2019 - DEC 2019\n",
    "pred = my_model.predict(test)"
   ]
  },
  {
   "cell_type": "code",
   "execution_count": 46,
   "metadata": {
    "execution": {
     "iopub.execute_input": "2020-08-30T17:14:50.541989Z",
     "iopub.status.busy": "2020-08-30T17:14:50.541128Z",
     "iopub.status.idle": "2020-08-30T17:14:50.545342Z",
     "shell.execute_reply": "2020-08-30T17:14:50.544594Z"
    },
    "papermill": {
     "duration": 0.081475,
     "end_time": "2020-08-30T17:14:50.545487",
     "exception": false,
     "start_time": "2020-08-30T17:14:50.464012",
     "status": "completed"
    },
    "tags": []
   },
   "outputs": [],
   "source": [
    "sub['predicted_value']=np.abs(pred)"
   ]
  },
  {
   "cell_type": "code",
   "execution_count": 47,
   "metadata": {
    "execution": {
     "iopub.execute_input": "2020-08-30T17:14:50.679212Z",
     "iopub.status.busy": "2020-08-30T17:14:50.678265Z",
     "iopub.status.idle": "2020-08-30T17:14:50.681688Z",
     "shell.execute_reply": "2020-08-30T17:14:50.680920Z"
    },
    "papermill": {
     "duration": 0.074102,
     "end_time": "2020-08-30T17:14:50.681830",
     "exception": false,
     "start_time": "2020-08-30T17:14:50.607728",
     "status": "completed"
    },
    "tags": []
   },
   "outputs": [],
   "source": [
    "#Convert the predcited value to the nearest whole number\n",
    "sub['predicted_value'] = sub['predicted_value'].round()"
   ]
  },
  {
   "cell_type": "code",
   "execution_count": 48,
   "metadata": {
    "execution": {
     "iopub.execute_input": "2020-08-30T17:14:50.816357Z",
     "iopub.status.busy": "2020-08-30T17:14:50.815543Z",
     "iopub.status.idle": "2020-08-30T17:14:50.898590Z",
     "shell.execute_reply": "2020-08-30T17:14:50.897715Z"
    },
    "papermill": {
     "duration": 0.152771,
     "end_time": "2020-08-30T17:14:50.898733",
     "exception": false,
     "start_time": "2020-08-30T17:14:50.745962",
     "status": "completed"
    },
    "tags": []
   },
   "outputs": [],
   "source": [
    "sub.to_csv('Fork of Second_Model.csv', index=False)"
   ]
  }
 ],
 "metadata": {
  "kernelspec": {
   "display_name": "Python 3",
   "language": "python",
   "name": "python3"
  },
  "language_info": {
   "codemirror_mode": {
    "name": "ipython",
    "version": 3
   },
   "file_extension": ".py",
   "mimetype": "text/x-python",
   "name": "python",
   "nbconvert_exporter": "python",
   "pygments_lexer": "ipython3",
   "version": "3.7.6"
  },
  "papermill": {
   "duration": 798.136804,
   "end_time": "2020-08-30T17:14:51.071100",
   "environment_variables": {},
   "exception": null,
   "input_path": "__notebook__.ipynb",
   "output_path": "__notebook__.ipynb",
   "parameters": {},
   "start_time": "2020-08-30T17:01:32.934296",
   "version": "2.1.0"
  }
 },
 "nbformat": 4,
 "nbformat_minor": 4
}
